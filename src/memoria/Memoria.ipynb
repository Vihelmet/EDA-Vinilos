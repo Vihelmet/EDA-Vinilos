{
 "cells": [
  {
   "cell_type": "code",
   "execution_count": null,
   "metadata": {},
   "outputs": [],
   "source": [
    "import pandas as pd\n",
    "import numpy as np\n",
    "import matplotlib.pyplot as plt\n",
    "import seaborn as sns"
   ]
  },
  {
   "attachments": {},
   "cell_type": "markdown",
   "metadata": {},
   "source": [
    "# MEMORIA DEL PROYECTO"
   ]
  },
  {
   "attachments": {},
   "cell_type": "markdown",
   "metadata": {},
   "source": [
    "### GENERALIDADES"
   ]
  },
  {
   "attachments": {},
   "cell_type": "markdown",
   "metadata": {},
   "source": [
    "A quien le gusta la música, cualquier forma es buena con tal de escucharla. Esto es sabido por todos. ¿O no? Si ahondamos un poco más, veremos que los verdaderos melómanos tienen al disco de vinilo como santo y seña, como buque insignia, del verdadero sonido... y no estamos hablando de calidad técnica. Se habla de la calidez del sonido del vinilo y de cuánto lo aman los verdaderos entendidos.\n",
    "\n",
    "También es cierto que, con el paso de los años, los formatos en los que se reproduce un producto musical han ido variando con los avances económicos y sociales, así como con la aparición y desarrollo de la tecnología.\n",
    "\n",
    "Durante años, se ponía de moda el último formato: primero llegó el cedé, luego el MP3, después el *streaming*; y esas modas conllevaban el cese de la producción de los formatos que quedaban obsoletos. Pero siempre se ha dicho que el amante de la música de verdad, es amante del vinilo y, por consecuencia, independientemente de las modas, siempre consume vinilo.\n",
    "\n",
    "Nos hemos puesto manos a la obra para confirmar si esta circunstancia es real o sigue siendo un rumor. Y para ello nos hemos hecho con una base de datos de una de las plataformas musicales más importantes."
   ]
  },
  {
   "attachments": {},
   "cell_type": "markdown",
   "metadata": {},
   "source": [
    "## OBTENCIÓN DE LOS DATOS"
   ]
  },
  {
   "attachments": {},
   "cell_type": "markdown",
   "metadata": {},
   "source": [
    "### DATASETS Y FUENTES ALTERNATIVAS DE DATOS"
   ]
  },
  {
   "attachments": {},
   "cell_type": "markdown",
   "metadata": {},
   "source": [
    "Se tomó la base de datos de lanzamientos musicales en todos los formatos y en todos los países, en todos los géneros, desde 1860 hasta 2021.\n",
    "\n",
    "Se limpió de:\n",
    "\n",
    "+ Valores superiores al año 2020, para tener un año de cierre de década claro.\n",
    "+ Se transformó los años, que tenían carácter decimal, a un número entero.\n",
    "+ Además, se quitaron todos los valores nulos o faltantes.\n",
    "\n",
    "Con el fin de que no fuera excesivamente grande, averiguamos cuál fue el primer año de aparición del vinilo (objeto de nuestro estudio) y eliminamos todos los registros anteriores a dicha fecha. De tal forma, se centró el estudio en los valores registrados entre 1925 y 2020.\n",
    "\n",
    "De la misma forma, tomamos los datos de los 5 países y los 5 estilos en los que más vinilos se publican a fin de centrar nuestro estudio, teniendo en cuenta que aún limpiando todos estos valores, seguíamos contando con millones de registros para el estudio.\n",
    "\n",
    "Además, nos aseguramos de ordenar los resultados de nuestras investigaciones por décadas, con el fin de que las visualizaciones quedaran claras y diáfanas.\n",
    "\n"
   ]
  },
  {
   "attachments": {},
   "cell_type": "markdown",
   "metadata": {},
   "source": [
    "### 1. LIMPIEZA DE LOS DATOS"
   ]
  },
  {
   "cell_type": "code",
   "execution_count": null,
   "metadata": {},
   "outputs": [],
   "source": [
    "df_1 = pd.read_csv(\"C:/Users/vsuar/Documents/THE BRIDGE/EDA/BBDD/release_data.csv\", sep=',')\n",
    "df_1"
   ]
  },
  {
   "cell_type": "code",
   "execution_count": null,
   "metadata": {},
   "outputs": [],
   "source": [
    "df_1.dropna(subset=['release_id','genre', 'format', 'year', 'country'], inplace=True)\n",
    "df_1"
   ]
  },
  {
   "cell_type": "code",
   "execution_count": null,
   "metadata": {},
   "outputs": [],
   "source": [
    "df_1['year'] = df_1['year'].round().astype(int)\n",
    "df_1"
   ]
  },
  {
   "cell_type": "code",
   "execution_count": null,
   "metadata": {},
   "outputs": [],
   "source": [
    "primer_formato = df_1.groupby('format')['year'].min()\n",
    "primer_formato"
   ]
  },
  {
   "cell_type": "code",
   "execution_count": null,
   "metadata": {},
   "outputs": [],
   "source": [
    "df_1 = df_1.loc[(df_1['year'] >= 1925) & (df_1['year'] <= 2020)]\n",
    "df_1.head()"
   ]
  },
  {
   "cell_type": "code",
   "execution_count": null,
   "metadata": {},
   "outputs": [],
   "source": [
    "df_1 = df_1[~df_1['country'].astype(str).str.contains('&')]\n",
    "df_1"
   ]
  },
  {
   "cell_type": "code",
   "execution_count": null,
   "metadata": {},
   "outputs": [],
   "source": [
    "df_1['country'].unique()"
   ]
  },
  {
   "cell_type": "code",
   "execution_count": null,
   "metadata": {},
   "outputs": [],
   "source": [
    "hay_nan = df_1.isna().any().any()\n",
    "\n",
    "if hay_nan:\n",
    "    print(\"Hay valores NaN en el DataFrame\")\n",
    "else:\n",
    "    print(\"No hay valores NaN en el DataFrame\")"
   ]
  },
  {
   "cell_type": "code",
   "execution_count": null,
   "metadata": {},
   "outputs": [],
   "source": [
    "columnas_seleccionadas = ['country', 'genre', 'format']\n",
    "descripcion = df_1[columnas_seleccionadas].describe()\n",
    "descripcion"
   ]
  },
  {
   "cell_type": "code",
   "execution_count": null,
   "metadata": {},
   "outputs": [],
   "source": [
    "df_1.describe()"
   ]
  },
  {
   "attachments": {},
   "cell_type": "markdown",
   "metadata": {},
   "source": [
    "A continuación, empiezo a limpiar la base para averiguar cuáles son los top 5 países, los top 5 formatos y los top 5 estilos, y trabajar solo con sus resultados."
   ]
  },
  {
   "cell_type": "code",
   "execution_count": null,
   "metadata": {},
   "outputs": [],
   "source": [
    "paises = df_1['country'].nunique()\n",
    "paises"
   ]
  },
  {
   "cell_type": "code",
   "execution_count": null,
   "metadata": {},
   "outputs": [],
   "source": [
    "paises_mas_datos = df_1['country'].value_counts().head(10)\n",
    "paises_mas_datos"
   ]
  },
  {
   "cell_type": "code",
   "execution_count": null,
   "metadata": {},
   "outputs": [],
   "source": [
    "top_paises = ['UK', 'US', 'Germany', 'Japan', 'France']\n",
    "\n",
    "df_1 = df_1[df_1['country'].isin(top_paises)]\n",
    "df_1"
   ]
  },
  {
   "cell_type": "code",
   "execution_count": null,
   "metadata": {},
   "outputs": [],
   "source": [
    "formatos_mas_datos = df_1['format'].value_counts().head(10)\n",
    "formatos_mas_datos"
   ]
  },
  {
   "cell_type": "code",
   "execution_count": null,
   "metadata": {},
   "outputs": [],
   "source": [
    "top_formatos = ['Vinyl', 'CD', 'File', 'Cassette', 'Shellac']\n",
    "\n",
    "df_1 = df_1[df_1['format'].isin(top_formatos)]\n",
    "df_1"
   ]
  },
  {
   "cell_type": "code",
   "execution_count": null,
   "metadata": {},
   "outputs": [],
   "source": [
    "generos = df_1['genre'].unique()\n",
    "generos"
   ]
  },
  {
   "cell_type": "code",
   "execution_count": null,
   "metadata": {},
   "outputs": [],
   "source": [
    "generos_mas_datos = df_1['genre'].value_counts().head(10)\n",
    "generos_mas_datos.head(5)"
   ]
  },
  {
   "cell_type": "code",
   "execution_count": null,
   "metadata": {},
   "outputs": [],
   "source": [
    "df_vinyl = df_1[df_1['format'] == 'Vinyl']\n",
    "\n",
    "generos_por_vinilo = df_vinyl['genre'].value_counts()\n",
    "generos_por_vinilo.head(5)"
   ]
  },
  {
   "attachments": {},
   "cell_type": "markdown",
   "metadata": {},
   "source": [
    "### 2. ANÁLISIS Y VISUALIZACIÓN DE LOS DATOS\n",
    "\n",
    "Una vez he dejado la base con los datos que quiero empezar a analizar, empiezo a programar las visualizaciones que me interesan. Primero empiezo por datos generales, que muestran el estado de la cuestión en todas las categorías de las que disponemos.\n",
    "\n",
    "Posteriormente, me centro únicamente en el vinilo que es el formato en el que me quiero centrar."
   ]
  },
  {
   "cell_type": "code",
   "execution_count": null,
   "metadata": {},
   "outputs": [],
   "source": [
    "release_by_country = (df_1.groupby('country')['release_id']\n",
    "                      .count()\n",
    "                      .reset_index(name='count')\n",
    "                      .sort_values(['count'], ascending=False)\n",
    "                      .head(20))\n",
    "\n",
    "\n",
    "plt.figure(figsize=(12, 6))\n",
    "sns.barplot(data=release_by_country, x='country', y='count')\n",
    "plt.title('N.º de publicaciones por top países')\n",
    "plt.xlabel('País')\n",
    "plt.ylabel('Recuento')\n",
    "plt.xticks(rotation=45)\n",
    "plt.show()"
   ]
  },
  {
   "cell_type": "code",
   "execution_count": null,
   "metadata": {},
   "outputs": [],
   "source": [
    "release_by_year = (df_1.groupby('year')['release_id']\n",
    "                   .count()\n",
    "                   .reset_index(name='count'))\n",
    "\n",
    "plt.figure(figsize=(12, 6))\n",
    "sns.lineplot(data=release_by_year, x='year', y='count')\n",
    "plt.title('N.º de publicaciones por año')\n",
    "plt.xlabel('Año')\n",
    "plt.ylabel('Recuento')\n",
    "plt.show()"
   ]
  },
  {
   "cell_type": "code",
   "execution_count": null,
   "metadata": {},
   "outputs": [],
   "source": [
    "release_by_genre = (df_1.groupby('genre')['release_id']\n",
    "                    .count()\n",
    "                    .reset_index(name='count')\n",
    "                    .sort_values(['count'], ascending=False)\n",
    "                    .head(15))\n",
    "\n",
    "plt.figure(figsize=(12, 6))\n",
    "sns.barplot(data=release_by_genre, x='genre', y='count')\n",
    "plt.title('N.º de publicaciones por estilo musical')\n",
    "plt.xlabel('Estilo')\n",
    "plt.ylabel('Recuento')\n",
    "plt.xticks(rotation=45)\n",
    "plt.show()"
   ]
  },
  {
   "cell_type": "code",
   "execution_count": null,
   "metadata": {},
   "outputs": [],
   "source": [
    "release_by_format = (df_1.groupby('format')['release_id']\n",
    "                     .count()\n",
    "                     .reset_index(name='count')\n",
    "                     .sort_values(['count'], ascending=False))\n",
    "\n",
    "plt.figure(figsize=(12, 6))\n",
    "sns.barplot(data=release_by_format, x='format', y='count')\n",
    "plt.title('N.º de publicaciones por formato')\n",
    "plt.xlabel('Formato')\n",
    "plt.ylabel('Recuento')\n",
    "plt.xticks(rotation=45)\n",
    "plt.show()"
   ]
  },
  {
   "cell_type": "code",
   "execution_count": null,
   "metadata": {},
   "outputs": [],
   "source": [
    "release_by_country_year = df_1.groupby(['country', df_1['year'] // 10 * 10])['release_id'].count().reset_index(name='count').sort_values('count', ascending=False)\n",
    "\n",
    "release_by_country_year['year'] = release_by_country_year['year'].astype(str) + 's'\n",
    "\n",
    "plt.figure(figsize=(12, 6))\n",
    "sns.barplot(data=release_by_country_year, x='year', y='count', hue='country', palette='Set3')\n",
    "plt.title('Publicaciones por década y país')\n",
    "plt.xlabel('Década')\n",
    "plt.ylabel('Recuento')\n",
    "plt.xticks(rotation=45)\n",
    "plt.show()"
   ]
  },
  {
   "cell_type": "code",
   "execution_count": null,
   "metadata": {},
   "outputs": [],
   "source": [
    "release_by_genre_country = df_1.groupby(['genre', 'country'])['release_id'].count().reset_index(name='count').sort_values(['count'], ascending=False)\n",
    "\n",
    "release_by_genre_country['year'] = df_1['year'] // 10 * 10\n",
    "\n",
    "countries = df_1['country'].value_counts().head(10)\n",
    "\n",
    "genres_decades = release_by_genre_country[release_by_genre_country['country'].isin(countries.index)]\n",
    "\n",
    "plt.figure(figsize=(12, 6))\n",
    "sns.barplot(data=genres_decades, x='genre', y='count', hue='country', palette='Set3')\n",
    "plt.title('Estilos por década, país y estilo')\n",
    "plt.xlabel('Estilo')\n",
    "plt.ylabel('Recuento')\n",
    "plt.xticks(rotation=45)\n",
    "plt.show()"
   ]
  },
  {
   "cell_type": "code",
   "execution_count": null,
   "metadata": {},
   "outputs": [],
   "source": [
    "estilos_vinilo = df_1['genre'].unique()\n",
    "\n",
    "sns.countplot(y='genre', data=df_1, order=estilos_vinilo)\n",
    "plt.xlabel('Estilos en vinilo')\n",
    "plt.ylabel('Estilos')\n",
    "plt.title('Distribución de estilos en vinilo')\n",
    "plt.show()"
   ]
  },
  {
   "cell_type": "code",
   "execution_count": null,
   "metadata": {},
   "outputs": [],
   "source": [
    "top_countries = df_1['country'].value_counts().head(10)\n",
    "\n",
    "sns.barplot(x=top_countries.values, y=top_countries.index)\n",
    "plt.xlabel('Publicaciones en vinilo')\n",
    "plt.ylabel('País')\n",
    "plt.title('Países donde más vinilos se publican')\n",
    "plt.show()"
   ]
  },
  {
   "attachments": {},
   "cell_type": "markdown",
   "metadata": {},
   "source": [
    "Y llegamos al gráfico que puede demostrar o no la hipótesis de partida:"
   ]
  },
  {
   "cell_type": "code",
   "execution_count": null,
   "metadata": {},
   "outputs": [],
   "source": [
    "format_year = df_1.groupby(['format', df_1['year'] // 10 * 10])['release_id'].count().reset_index(name='count')\n",
    "\n",
    "format_year['year'] = format_year['year'].astype(str) + 's'\n",
    "\n",
    "decades = sorted(format_year['year'].unique())\n",
    "\n",
    "format_year['year'] = pd.Categorical(format_year['year'], categories=decades, ordered=True)\n",
    "\n",
    "plt.figure(figsize=(12, 6))\n",
    "sns.lineplot(data=format_year, x='year', y='count', hue='format', palette='Set2', marker='o')\n",
    "plt.title('Formatos a lo largo de las décadas')\n",
    "plt.xlabel('Década')\n",
    "plt.ylabel('Recuento')\n",
    "plt.xticks(rotation=45)\n",
    "plt.show()"
   ]
  }
 ],
 "metadata": {
  "kernelspec": {
   "display_name": "Python 3.7.4 64-bit",
   "language": "python",
   "name": "python3"
  },
  "language_info": {
   "codemirror_mode": {
    "name": "ipython",
    "version": 3
   },
   "file_extension": ".py",
   "mimetype": "text/x-python",
   "name": "python",
   "nbconvert_exporter": "python",
   "pygments_lexer": "ipython3",
   "version": "3.7.4"
  },
  "orig_nbformat": 4,
  "vscode": {
   "interpreter": {
    "hash": "90139cb9a825bf3d63f6f6704e828dbd1ff7edbd4d0c6e906a71235d6efc74af"
   }
  }
 },
 "nbformat": 4,
 "nbformat_minor": 2
}
